{
 "cells": [
  {
   "cell_type": "code",
   "execution_count": 1,
   "metadata": {},
   "outputs": [],
   "source": [
    "from selenium import webdriver\n",
    "from selenium.webdriver.edge.service import Service as EdgeService\n",
    "from webdriver_manager.microsoft import EdgeChromiumDriverManager\n",
    "from selenium.webdriver.edge.options import Options as EdgeOptions\n",
    "\n",
    "import datetime\n",
    "import pandas as pd\n",
    "\n",
    "from src.spider_eastmoney import daily_news_spider\n",
    "from src.spider_dongmi import daily_dongmi\n",
    "from utils.data_processing import eastmoney_df_generator\n",
    "from utils.docx_processing import eastmoney_docx_generator, dongmi_docx_generator"
   ]
  },
  {
   "cell_type": "code",
   "execution_count": 2,
   "metadata": {},
   "outputs": [],
   "source": [
    "# 设置 EdgeOptions\n",
    "options = EdgeOptions()\n",
    "options.add_argument(\"--headless\")  # 无头模式\n",
    "# 初始化 WebDriver\n",
    "driver = webdriver.Edge(service=EdgeService(EdgeChromiumDriverManager().install()), options=options)\n",
    "\n",
    "today = datetime.datetime.now().strftime(\"%m-%d\")\n",
    "yesterday = (datetime.datetime.now() - datetime.timedelta(days=1)).strftime(\"%m-%d\")\n",
    "companies = pd.read_csv(\"data/sichuan.csv\")"
   ]
  },
  {
   "cell_type": "code",
   "execution_count": 3,
   "metadata": {},
   "outputs": [],
   "source": [
    "urls = companies[\"website\"]\n",
    "names =  companies[\"name\"]\n",
    "codes = companies[\"code\"]"
   ]
  },
  {
   "cell_type": "code",
   "execution_count": 4,
   "metadata": {},
   "outputs": [
    {
     "name": "stdout",
     "output_type": "stream",
     "text": [
      "http://finance.eastmoney.com/a/202410203211308857.html\n",
      "http://finance.eastmoney.com/a/202410203211416586.html\n",
      "http://finance.eastmoney.com/a/202410203211373441.html\n",
      "http://finance.eastmoney.com/a/202410203211372578.html\n",
      "http://caifuhao.eastmoney.com/news/20241020175745016356180\n",
      "http://finance.eastmoney.com/a/202410203211349736.html\n",
      "http://finance.eastmoney.com/a/202410203211311186.html\n"
     ]
    },
    {
     "ename": "ElementClickInterceptedException",
     "evalue": "Message: element click intercepted: Element <div class=\"qnb_list\">...</div> is not clickable at point (411, 561). Other element would receive the click: <div class=\"newsts\" style=\"bottom: 85px; margin-left: -202px;\">...</div>\n  (Session info: MicrosoftEdge=130.0.2849.46)\nStacktrace:\n\tGetHandleVerifier [0x00007FF77045D095+12933]\n\tMicrosoft::Applications::Events::EventProperty::empty [0x00007FF77071FE14+2285364]\n\tMicrosoft::Applications::Events::EventProperty::empty [0x00007FF77065D7D6+1489142]\n\t(No symbol) [0x00007FF77024FAE3]\n\t(No symbol) [0x00007FF77024DCA0]\n\t(No symbol) [0x00007FF77024BBC5]\n\t(No symbol) [0x00007FF77024AFC8]\n\t(No symbol) [0x00007FF770240D7B]\n\t(No symbol) [0x00007FF77026847A]\n\t(No symbol) [0x00007FF7702405A7]\n\t(No symbol) [0x00007FF77024046D]\n\t(No symbol) [0x00007FF770268760]\n\t(No symbol) [0x00007FF7702405A7]\n\t(No symbol) [0x00007FF7702813B1]\n\t(No symbol) [0x00007FF7702680E3]\n\t(No symbol) [0x00007FF77023FAE4]\n\t(No symbol) [0x00007FF77023EF90]\n\t(No symbol) [0x00007FF77023F6D1]\n\tMicrosoft::Applications::Events::EventProperty::empty [0x00007FF7705F4764+1058948]\n\tMicrosoft::Applications::Events::EventProperty::~EventProperty [0x00007FF7703666B4+56500]\n\tMicrosoft::Applications::Events::EventProperty::empty [0x00007FF7705F3763+1054851]\n\tMicrosoft::Applications::Events::EventProperty::empty [0x00007FF7705F33C9+1053929]\n\tMicrosoft::Applications::Events::ILogConfiguration::operator* [0x00007FF7703F39E1+428481]\n\tMicrosoft::Applications::Events::ILogConfiguration::operator* [0x00007FF7703EFC94+412788]\n\tMicrosoft::Applications::Events::ILogConfiguration::operator* [0x00007FF7703EFDD9+413113]\n\tMicrosoft::Applications::Events::ILogConfiguration::operator* [0x00007FF7703E5A06+371174]\n\tBaseThreadInitThunk [0x00007FF88C54257D+29]\n\tRtlUserThreadStart [0x00007FF88E78AF08+40]\n",
     "output_type": "error",
     "traceback": [
      "\u001b[1;31m---------------------------------------------------------------------------\u001b[0m",
      "\u001b[1;31mElementClickInterceptedException\u001b[0m          Traceback (most recent call last)",
      "Cell \u001b[1;32mIn[4], line 1\u001b[0m\n\u001b[1;32m----> 1\u001b[0m name_list, code_list, title_list, web_list, info_list, abstract_list \u001b[38;5;241m=\u001b[39m \u001b[43mdaily_news_spider\u001b[49m\u001b[43m(\u001b[49m\u001b[43mdriver\u001b[49m\u001b[38;5;241;43m=\u001b[39;49m\u001b[43mdriver\u001b[49m\u001b[43m,\u001b[49m\u001b[43m \u001b[49m\u001b[43murls\u001b[49m\u001b[38;5;241;43m=\u001b[39;49m\u001b[43murls\u001b[49m\u001b[43m,\u001b[49m\u001b[43m \u001b[49m\u001b[43mdate\u001b[49m\u001b[38;5;241;43m=\u001b[39;49m\u001b[43myesterday\u001b[49m\u001b[43m,\u001b[49m\u001b[43m \u001b[49m\u001b[43mnames\u001b[49m\u001b[38;5;241;43m=\u001b[39;49m\u001b[43mnames\u001b[49m\u001b[43m,\u001b[49m\u001b[43m \u001b[49m\u001b[43mcodes\u001b[49m\u001b[38;5;241;43m=\u001b[39;49m\u001b[43mcodes\u001b[49m\u001b[43m)\u001b[49m\n",
      "File \u001b[1;32mc:\\Users\\ECCSH\\Documents\\天府对冲基金\\Chuanyu-Information-Retrieval\\src\\spider_eastmoney.py:126\u001b[0m, in \u001b[0;36mdaily_news_spider\u001b[1;34m(driver, urls, date, names, codes)\u001b[0m\n\u001b[0;32m    123\u001b[0m driver\u001b[38;5;241m.\u001b[39mget(urls[i])\n\u001b[0;32m    125\u001b[0m div \u001b[38;5;241m=\u001b[39m driver\u001b[38;5;241m.\u001b[39mfind_element(By\u001b[38;5;241m.\u001b[39mCSS_SELECTOR, \u001b[38;5;124m\"\u001b[39m\u001b[38;5;124mdiv.qnb_list\u001b[39m\u001b[38;5;124m\"\u001b[39m)  \u001b[38;5;66;03m# 新闻列表区域\u001b[39;00m\n\u001b[1;32m--> 126\u001b[0m \u001b[43mdiv\u001b[49m\u001b[38;5;241;43m.\u001b[39;49m\u001b[43mclick\u001b[49m\u001b[43m(\u001b[49m\u001b[43m)\u001b[49m  \u001b[38;5;66;03m# 可能需要点击展开列表\u001b[39;00m\n\u001b[0;32m    127\u001b[0m content \u001b[38;5;241m=\u001b[39m div\u001b[38;5;241m.\u001b[39mget_attribute(\u001b[38;5;124m'\u001b[39m\u001b[38;5;124mouterHTML\u001b[39m\u001b[38;5;124m'\u001b[39m)\n\u001b[0;32m    129\u001b[0m soup \u001b[38;5;241m=\u001b[39m BeautifulSoup(content, \u001b[38;5;124m'\u001b[39m\u001b[38;5;124mhtml.parser\u001b[39m\u001b[38;5;124m'\u001b[39m)\n",
      "File \u001b[1;32mc:\\Users\\ECCSH\\anaconda3\\lib\\site-packages\\selenium\\webdriver\\remote\\webelement.py:94\u001b[0m, in \u001b[0;36mWebElement.click\u001b[1;34m(self)\u001b[0m\n\u001b[0;32m     92\u001b[0m \u001b[38;5;28;01mdef\u001b[39;00m \u001b[38;5;21mclick\u001b[39m(\u001b[38;5;28mself\u001b[39m) \u001b[38;5;241m-\u001b[39m\u001b[38;5;241m>\u001b[39m \u001b[38;5;28;01mNone\u001b[39;00m:\n\u001b[0;32m     93\u001b[0m \u001b[38;5;250m    \u001b[39m\u001b[38;5;124;03m\"\"\"Clicks the element.\"\"\"\u001b[39;00m\n\u001b[1;32m---> 94\u001b[0m     \u001b[38;5;28;43mself\u001b[39;49m\u001b[38;5;241;43m.\u001b[39;49m\u001b[43m_execute\u001b[49m\u001b[43m(\u001b[49m\u001b[43mCommand\u001b[49m\u001b[38;5;241;43m.\u001b[39;49m\u001b[43mCLICK_ELEMENT\u001b[49m\u001b[43m)\u001b[49m\n",
      "File \u001b[1;32mc:\\Users\\ECCSH\\anaconda3\\lib\\site-packages\\selenium\\webdriver\\remote\\webelement.py:395\u001b[0m, in \u001b[0;36mWebElement._execute\u001b[1;34m(self, command, params)\u001b[0m\n\u001b[0;32m    393\u001b[0m     params \u001b[38;5;241m=\u001b[39m {}\n\u001b[0;32m    394\u001b[0m params[\u001b[38;5;124m\"\u001b[39m\u001b[38;5;124mid\u001b[39m\u001b[38;5;124m\"\u001b[39m] \u001b[38;5;241m=\u001b[39m \u001b[38;5;28mself\u001b[39m\u001b[38;5;241m.\u001b[39m_id\n\u001b[1;32m--> 395\u001b[0m \u001b[38;5;28;01mreturn\u001b[39;00m \u001b[38;5;28;43mself\u001b[39;49m\u001b[38;5;241;43m.\u001b[39;49m\u001b[43m_parent\u001b[49m\u001b[38;5;241;43m.\u001b[39;49m\u001b[43mexecute\u001b[49m\u001b[43m(\u001b[49m\u001b[43mcommand\u001b[49m\u001b[43m,\u001b[49m\u001b[43m \u001b[49m\u001b[43mparams\u001b[49m\u001b[43m)\u001b[49m\n",
      "File \u001b[1;32mc:\\Users\\ECCSH\\anaconda3\\lib\\site-packages\\selenium\\webdriver\\remote\\webdriver.py:354\u001b[0m, in \u001b[0;36mWebDriver.execute\u001b[1;34m(self, driver_command, params)\u001b[0m\n\u001b[0;32m    352\u001b[0m response \u001b[38;5;241m=\u001b[39m \u001b[38;5;28mself\u001b[39m\u001b[38;5;241m.\u001b[39mcommand_executor\u001b[38;5;241m.\u001b[39mexecute(driver_command, params)\n\u001b[0;32m    353\u001b[0m \u001b[38;5;28;01mif\u001b[39;00m response:\n\u001b[1;32m--> 354\u001b[0m     \u001b[38;5;28;43mself\u001b[39;49m\u001b[38;5;241;43m.\u001b[39;49m\u001b[43merror_handler\u001b[49m\u001b[38;5;241;43m.\u001b[39;49m\u001b[43mcheck_response\u001b[49m\u001b[43m(\u001b[49m\u001b[43mresponse\u001b[49m\u001b[43m)\u001b[49m\n\u001b[0;32m    355\u001b[0m     response[\u001b[38;5;124m\"\u001b[39m\u001b[38;5;124mvalue\u001b[39m\u001b[38;5;124m\"\u001b[39m] \u001b[38;5;241m=\u001b[39m \u001b[38;5;28mself\u001b[39m\u001b[38;5;241m.\u001b[39m_unwrap_value(response\u001b[38;5;241m.\u001b[39mget(\u001b[38;5;124m\"\u001b[39m\u001b[38;5;124mvalue\u001b[39m\u001b[38;5;124m\"\u001b[39m, \u001b[38;5;28;01mNone\u001b[39;00m))\n\u001b[0;32m    356\u001b[0m     \u001b[38;5;28;01mreturn\u001b[39;00m response\n",
      "File \u001b[1;32mc:\\Users\\ECCSH\\anaconda3\\lib\\site-packages\\selenium\\webdriver\\remote\\errorhandler.py:229\u001b[0m, in \u001b[0;36mErrorHandler.check_response\u001b[1;34m(self, response)\u001b[0m\n\u001b[0;32m    227\u001b[0m         alert_text \u001b[38;5;241m=\u001b[39m value[\u001b[38;5;124m\"\u001b[39m\u001b[38;5;124malert\u001b[39m\u001b[38;5;124m\"\u001b[39m]\u001b[38;5;241m.\u001b[39mget(\u001b[38;5;124m\"\u001b[39m\u001b[38;5;124mtext\u001b[39m\u001b[38;5;124m\"\u001b[39m)\n\u001b[0;32m    228\u001b[0m     \u001b[38;5;28;01mraise\u001b[39;00m exception_class(message, screen, stacktrace, alert_text)  \u001b[38;5;66;03m# type: ignore[call-arg]  # mypy is not smart enough here\u001b[39;00m\n\u001b[1;32m--> 229\u001b[0m \u001b[38;5;28;01mraise\u001b[39;00m exception_class(message, screen, stacktrace)\n",
      "\u001b[1;31mElementClickInterceptedException\u001b[0m: Message: element click intercepted: Element <div class=\"qnb_list\">...</div> is not clickable at point (411, 561). Other element would receive the click: <div class=\"newsts\" style=\"bottom: 85px; margin-left: -202px;\">...</div>\n  (Session info: MicrosoftEdge=130.0.2849.46)\nStacktrace:\n\tGetHandleVerifier [0x00007FF77045D095+12933]\n\tMicrosoft::Applications::Events::EventProperty::empty [0x00007FF77071FE14+2285364]\n\tMicrosoft::Applications::Events::EventProperty::empty [0x00007FF77065D7D6+1489142]\n\t(No symbol) [0x00007FF77024FAE3]\n\t(No symbol) [0x00007FF77024DCA0]\n\t(No symbol) [0x00007FF77024BBC5]\n\t(No symbol) [0x00007FF77024AFC8]\n\t(No symbol) [0x00007FF770240D7B]\n\t(No symbol) [0x00007FF77026847A]\n\t(No symbol) [0x00007FF7702405A7]\n\t(No symbol) [0x00007FF77024046D]\n\t(No symbol) [0x00007FF770268760]\n\t(No symbol) [0x00007FF7702405A7]\n\t(No symbol) [0x00007FF7702813B1]\n\t(No symbol) [0x00007FF7702680E3]\n\t(No symbol) [0x00007FF77023FAE4]\n\t(No symbol) [0x00007FF77023EF90]\n\t(No symbol) [0x00007FF77023F6D1]\n\tMicrosoft::Applications::Events::EventProperty::empty [0x00007FF7705F4764+1058948]\n\tMicrosoft::Applications::Events::EventProperty::~EventProperty [0x00007FF7703666B4+56500]\n\tMicrosoft::Applications::Events::EventProperty::empty [0x00007FF7705F3763+1054851]\n\tMicrosoft::Applications::Events::EventProperty::empty [0x00007FF7705F33C9+1053929]\n\tMicrosoft::Applications::Events::ILogConfiguration::operator* [0x00007FF7703F39E1+428481]\n\tMicrosoft::Applications::Events::ILogConfiguration::operator* [0x00007FF7703EFC94+412788]\n\tMicrosoft::Applications::Events::ILogConfiguration::operator* [0x00007FF7703EFDD9+413113]\n\tMicrosoft::Applications::Events::ILogConfiguration::operator* [0x00007FF7703E5A06+371174]\n\tBaseThreadInitThunk [0x00007FF88C54257D+29]\n\tRtlUserThreadStart [0x00007FF88E78AF08+40]\n"
     ]
    }
   ],
   "source": [
    "name_list, code_list, title_list, web_list, info_list, abstract_list = daily_news_spider(driver=driver, urls=urls, date=yesterday, names=names, codes=codes)"
   ]
  },
  {
   "cell_type": "code",
   "execution_count": 5,
   "metadata": {},
   "outputs": [
    {
     "data": {
      "text/html": [
       "<div>\n",
       "<style scoped>\n",
       "    .dataframe tbody tr th:only-of-type {\n",
       "        vertical-align: middle;\n",
       "    }\n",
       "\n",
       "    .dataframe tbody tr th {\n",
       "        vertical-align: top;\n",
       "    }\n",
       "\n",
       "    .dataframe thead th {\n",
       "        text-align: right;\n",
       "    }\n",
       "</style>\n",
       "<table border=\"1\" class=\"dataframe\">\n",
       "  <thead>\n",
       "    <tr style=\"text-align: right;\">\n",
       "      <th></th>\n",
       "      <th>name</th>\n",
       "      <th>code</th>\n",
       "      <th>title</th>\n",
       "      <th>web</th>\n",
       "      <th>item_list</th>\n",
       "      <th>abstract</th>\n",
       "    </tr>\n",
       "  </thead>\n",
       "  <tbody>\n",
       "    <tr>\n",
       "      <th>0</th>\n",
       "      <td>兴蓉环境</td>\n",
       "      <td>000598</td>\n",
       "      <td>兴蓉环境：公司瓶装水项目尚处建设阶段，公司积极推进相关工作</td>\n",
       "      <td>http://finance.eastmoney.com/a/202408223162766...</td>\n",
       "      <td>[2024年08月22日 16:33, 来源：\\n每日经济新闻, 3人评论]</td>\n",
       "      <td>每经AI快讯，有投资者在投资者互动平台提问：公司的瓶装水生产线是自来水六厂旧厂房改造而来，明...</td>\n",
       "    </tr>\n",
       "    <tr>\n",
       "      <th>1</th>\n",
       "      <td>康华生物</td>\n",
       "      <td>300841</td>\n",
       "      <td>天风证券给予康华生物买入评级，2024H1业绩增长稳健，人二倍体狂苗如期放量</td>\n",
       "      <td>http://finance.eastmoney.com/a/202408223162139...</td>\n",
       "      <td>[2024年08月22日 08:26, 来源：\\n每日经济新闻, 2人评论]</td>\n",
       "      <td>天风证券08月22日发布研报称，给予康华生物（300841.SZ，最新价：49.18元）买入...</td>\n",
       "    </tr>\n",
       "    <tr>\n",
       "      <th>2</th>\n",
       "      <td>东材科技</td>\n",
       "      <td>601208</td>\n",
       "      <td>东材科技上半年增收不增利 募投项目部分产线终止后又拟增加7亿元新项目</td>\n",
       "      <td>http://finance.eastmoney.com/a/202408223162922...</td>\n",
       "      <td>[2024年08月22日 19:04, 来源：\\n每日经济新闻, 1人评论]</td>\n",
       "      <td>8月21日盘后，东材科技（601208.SH，股价6.44元，市值57.75亿元）披露半年报...</td>\n",
       "    </tr>\n",
       "    <tr>\n",
       "      <th>3</th>\n",
       "      <td>东材科技</td>\n",
       "      <td>601208</td>\n",
       "      <td>聚焦半年报丨东材科技盈利能力环比回升 新增产能有待释放</td>\n",
       "      <td>http://finance.eastmoney.com/a/202408223162727...</td>\n",
       "      <td>[2024年08月22日 16:04, 来源：\\n金融投资报, ]</td>\n",
       "      <td>东材科技(601208)2024年上半年度实现营业收入21.22亿元，同比上升16.03%；...</td>\n",
       "    </tr>\n",
       "    <tr>\n",
       "      <th>4</th>\n",
       "      <td>东材科技</td>\n",
       "      <td>601208</td>\n",
       "      <td>机构风向标 | 东材科技(601208)2024年二季度前十大机构持股比例合计下跌4.96个百分点</td>\n",
       "      <td>http://finance.eastmoney.com/a/202408223162681...</td>\n",
       "      <td>[2024年08月22日 15:23, 来源：\\n界面新闻, ]</td>\n",
       "      <td>2024年8月22日，东材科技(601208.SH)发布2024年半年度报告。截至2024年...</td>\n",
       "    </tr>\n",
       "  </tbody>\n",
       "</table>\n",
       "</div>"
      ],
      "text/plain": [
       "   name    code                                              title  \\\n",
       "0  兴蓉环境  000598                      兴蓉环境：公司瓶装水项目尚处建设阶段，公司积极推进相关工作   \n",
       "1  康华生物  300841             天风证券给予康华生物买入评级，2024H1业绩增长稳健，人二倍体狂苗如期放量   \n",
       "2  东材科技  601208                 东材科技上半年增收不增利 募投项目部分产线终止后又拟增加7亿元新项目   \n",
       "3  东材科技  601208                        聚焦半年报丨东材科技盈利能力环比回升 新增产能有待释放   \n",
       "4  东材科技  601208  机构风向标 | 东材科技(601208)2024年二季度前十大机构持股比例合计下跌4.96个百分点   \n",
       "\n",
       "                                                 web  \\\n",
       "0  http://finance.eastmoney.com/a/202408223162766...   \n",
       "1  http://finance.eastmoney.com/a/202408223162139...   \n",
       "2  http://finance.eastmoney.com/a/202408223162922...   \n",
       "3  http://finance.eastmoney.com/a/202408223162727...   \n",
       "4  http://finance.eastmoney.com/a/202408223162681...   \n",
       "\n",
       "                                item_list  \\\n",
       "0  [2024年08月22日 16:33, 来源：\\n每日经济新闻, 3人评论]   \n",
       "1  [2024年08月22日 08:26, 来源：\\n每日经济新闻, 2人评论]   \n",
       "2  [2024年08月22日 19:04, 来源：\\n每日经济新闻, 1人评论]   \n",
       "3       [2024年08月22日 16:04, 来源：\\n金融投资报, ]   \n",
       "4        [2024年08月22日 15:23, 来源：\\n界面新闻, ]   \n",
       "\n",
       "                                            abstract  \n",
       "0  每经AI快讯，有投资者在投资者互动平台提问：公司的瓶装水生产线是自来水六厂旧厂房改造而来，明...  \n",
       "1  天风证券08月22日发布研报称，给予康华生物（300841.SZ，最新价：49.18元）买入...  \n",
       "2  8月21日盘后，东材科技（601208.SH，股价6.44元，市值57.75亿元）披露半年报...  \n",
       "3  东材科技(601208)2024年上半年度实现营业收入21.22亿元，同比上升16.03%；...  \n",
       "4  2024年8月22日，东材科技(601208.SH)发布2024年半年度报告。截至2024年...  "
      ]
     },
     "execution_count": 5,
     "metadata": {},
     "output_type": "execute_result"
    }
   ],
   "source": [
    "df = eastmoney_df_generator(name_list, code_list, title_list, web_list, info_list, abstract_list)\n",
    "df.head()"
   ]
  },
  {
   "cell_type": "code",
   "execution_count": 6,
   "metadata": {},
   "outputs": [
    {
     "name": "stdout",
     "output_type": "stream",
     "text": [
      "Finished Creating report/eastmoney/08-23 Report.docx...\n"
     ]
    }
   ],
   "source": [
    "eastmoney_docx_generator(today, df)"
   ]
  },
  {
   "cell_type": "code",
   "execution_count": 7,
   "metadata": {},
   "outputs": [],
   "source": [
    "n_list, q_list, a_list = daily_dongmi(driver, companies, yesterday)"
   ]
  },
  {
   "cell_type": "code",
   "execution_count": 8,
   "metadata": {},
   "outputs": [
    {
     "data": {
      "text/html": [
       "<div>\n",
       "<style scoped>\n",
       "    .dataframe tbody tr th:only-of-type {\n",
       "        vertical-align: middle;\n",
       "    }\n",
       "\n",
       "    .dataframe tbody tr th {\n",
       "        vertical-align: top;\n",
       "    }\n",
       "\n",
       "    .dataframe thead th {\n",
       "        text-align: right;\n",
       "    }\n",
       "</style>\n",
       "<table border=\"1\" class=\"dataframe\">\n",
       "  <thead>\n",
       "    <tr style=\"text-align: right;\">\n",
       "      <th></th>\n",
       "      <th>name</th>\n",
       "      <th>question</th>\n",
       "      <th>answer</th>\n",
       "    </tr>\n",
       "  </thead>\n",
       "  <tbody>\n",
       "    <tr>\n",
       "      <th>0</th>\n",
       "      <td>兴蓉环境</td>\n",
       "      <td>你好，请问贵公司是否了解财政部发布的《企业数据资源相关会计处理暂行规定》？目前是否已经着手准...</td>\n",
       "      <td>兴蓉环境：尊敬的投资者，您好！《企业数据资源相关会计处理暂行规定》自 2024 年1月1日起...</td>\n",
       "    </tr>\n",
       "    <tr>\n",
       "      <th>1</th>\n",
       "      <td>兴蓉环境</td>\n",
       "      <td>公司的瓶装水生产线是自来水六厂旧厂房改造而来，明明已经完工了，公司为什么没有公告？</td>\n",
       "      <td>兴蓉环境：尊敬的投资者，您好！公司瓶装水项目尚处建设阶段，公司积极推进相关工作。感谢您对公司...</td>\n",
       "    </tr>\n",
       "    <tr>\n",
       "      <th>2</th>\n",
       "      <td>泸州老窖</td>\n",
       "      <td>你好，请问贵公司是否了解财政部发布的《企业数据资源相关会计处理暂行规定》？目前是否已经着手准...</td>\n",
       "      <td>泸州老窖：尊敬的投资者，公司将密切关注相关政策动态，开展研究分析。谢谢！2024-08-22...</td>\n",
       "    </tr>\n",
       "    <tr>\n",
       "      <th>3</th>\n",
       "      <td>泸州老窖</td>\n",
       "      <td>公司长期借款有119亿，并且有越来越多的趋势，一季报新增19亿，这么多借款用在了哪些地方呢？</td>\n",
       "      <td>泸州老窖：尊敬的投资者，近年来，随着营收增长、经营规模扩张，公司正在投资建设一系列项目以匹配...</td>\n",
       "    </tr>\n",
       "    <tr>\n",
       "      <th>4</th>\n",
       "      <td>海创药业...</td>\n",
       "      <td>董秘您好！HC-1119 与恩杂鲁胺对转移性去势抵抗性前列腺癌 (mCRPC) 的有效性和安...</td>\n",
       "      <td>海创药业-U：尊敬的投资者，您好。为了加快公司药物研发进度，提高募集资金使用效率，公司对首次...</td>\n",
       "    </tr>\n",
       "  </tbody>\n",
       "</table>\n",
       "</div>"
      ],
      "text/plain": [
       "      name                                           question  \\\n",
       "0     兴蓉环境  你好，请问贵公司是否了解财政部发布的《企业数据资源相关会计处理暂行规定》？目前是否已经着手准...   \n",
       "1     兴蓉环境          公司的瓶装水生产线是自来水六厂旧厂房改造而来，明明已经完工了，公司为什么没有公告？   \n",
       "2     泸州老窖  你好，请问贵公司是否了解财政部发布的《企业数据资源相关会计处理暂行规定》？目前是否已经着手准...   \n",
       "3     泸州老窖     公司长期借款有119亿，并且有越来越多的趋势，一季报新增19亿，这么多借款用在了哪些地方呢？   \n",
       "4  海创药业...  董秘您好！HC-1119 与恩杂鲁胺对转移性去势抵抗性前列腺癌 (mCRPC) 的有效性和安...   \n",
       "\n",
       "                                              answer  \n",
       "0  兴蓉环境：尊敬的投资者，您好！《企业数据资源相关会计处理暂行规定》自 2024 年1月1日起...  \n",
       "1  兴蓉环境：尊敬的投资者，您好！公司瓶装水项目尚处建设阶段，公司积极推进相关工作。感谢您对公司...  \n",
       "2  泸州老窖：尊敬的投资者，公司将密切关注相关政策动态，开展研究分析。谢谢！2024-08-22...  \n",
       "3  泸州老窖：尊敬的投资者，近年来，随着营收增长、经营规模扩张，公司正在投资建设一系列项目以匹配...  \n",
       "4  海创药业-U：尊敬的投资者，您好。为了加快公司药物研发进度，提高募集资金使用效率，公司对首次...  "
      ]
     },
     "execution_count": 8,
     "metadata": {},
     "output_type": "execute_result"
    }
   ],
   "source": [
    "file_path = \"data/dongmi.csv\"\n",
    "new_data = {\n",
    "    \"name\": n_list,\n",
    "    \"question\": q_list,\n",
    "    \"answer\": a_list\n",
    "}\n",
    "\n",
    "dm = pd.DataFrame(new_data)\n",
    "dm.head()"
   ]
  },
  {
   "cell_type": "code",
   "execution_count": 9,
   "metadata": {},
   "outputs": [
    {
     "name": "stdout",
     "output_type": "stream",
     "text": [
      "Finished Creating report/dongmi/08-23 董秘问答.docx...\n"
     ]
    }
   ],
   "source": [
    "dongmi_docx_generator(today, dm)"
   ]
  }
 ],
 "metadata": {
  "kernelspec": {
   "display_name": "base",
   "language": "python",
   "name": "python3"
  },
  "language_info": {
   "codemirror_mode": {
    "name": "ipython",
    "version": 3
   },
   "file_extension": ".py",
   "mimetype": "text/x-python",
   "name": "python",
   "nbconvert_exporter": "python",
   "pygments_lexer": "ipython3",
   "version": "3.9.15"
  }
 },
 "nbformat": 4,
 "nbformat_minor": 2
}
