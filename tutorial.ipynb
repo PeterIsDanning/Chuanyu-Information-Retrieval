{
 "cells": [
  {
   "cell_type": "code",
   "execution_count": 1,
   "metadata": {},
   "outputs": [],
   "source": [
    "from selenium import webdriver\n",
    "from selenium.webdriver.edge.service import Service as EdgeService\n",
    "from webdriver_manager.microsoft import EdgeChromiumDriverManager\n",
    "from selenium.webdriver.edge.options import Options as EdgeOptions\n",
    "\n",
    "import datetime\n",
    "import pandas as pd\n",
    "\n",
    "from src.spider_eastmoney import daily_news_spider\n",
    "from src.spider_dongmi import daily_dongmi\n",
    "from utils.data_processing import eastmoney_df_generator\n",
    "from utils.docx_processing import eastmoney_docx_generator, dongmi_docx_generator"
   ]
  },
  {
   "cell_type": "code",
   "execution_count": 2,
   "metadata": {},
   "outputs": [],
   "source": [
    "# 设置 EdgeOptions\n",
    "options = EdgeOptions()\n",
    "options.add_argument(\"--headless\")  # 无头模式\n",
    "# 初始化 WebDriver\n",
    "driver = webdriver.Edge(service=EdgeService(EdgeChromiumDriverManager().install()), options=options)\n",
    "\n",
    "today = datetime.datetime.now().strftime(\"%m-%d\")\n",
    "yesterday = (datetime.datetime.now() - datetime.timedelta(days=1)).strftime(\"%m-%d\")\n",
    "companies = pd.read_csv(\"data/sichuan.csv\")"
   ]
  },
  {
   "cell_type": "code",
   "execution_count": 3,
   "metadata": {},
   "outputs": [],
   "source": [
    "urls = companies[\"website\"]\n",
    "names =  companies[\"name\"]\n",
    "codes = companies[\"code\"]"
   ]
  },
  {
   "cell_type": "code",
   "execution_count": 4,
   "metadata": {},
   "outputs": [
    {
     "name": "stdout",
     "output_type": "stream",
     "text": [
      "http://finance.eastmoney.com/a/202408203159687778.html\n",
      "http://finance.eastmoney.com/a/202408203160346731.html\n",
      "http://finance.eastmoney.com/a/202408203160473210.html\n",
      "http://finance.eastmoney.com/a/202408203160473210.html\n",
      "http://finance.eastmoney.com/a/202408203160502940.html\n",
      "http://finance.eastmoney.com/a/202408203159687695.html\n",
      "http://finance.eastmoney.com/a/202408203160679660.html\n",
      "http://stock.eastmoney.com/a/202408203160504928.html\n",
      "http://finance.eastmoney.com/a/202408203159687695.html\n",
      "http://finance.eastmoney.com/a/202408203159687778.html\n",
      "http://finance.eastmoney.com/a/202408203160031514.html\n",
      "http://finance.eastmoney.com/a/202408203160569536.html\n",
      "http://finance.eastmoney.com/a/202408203160468261.html\n",
      "http://finance.eastmoney.com/a/202408203160346236.html\n",
      "http://finance.eastmoney.com/a/202408203160680475.html\n",
      "http://finance.eastmoney.com/a/202408203160560718.html\n",
      "http://finance.eastmoney.com/a/202408203160552767.html\n",
      "http://finance.eastmoney.com/a/202408203160257318.html\n",
      "http://finance.eastmoney.com/a/202408203160226070.html\n",
      "http://finance.eastmoney.com/a/202408203159756983.html\n",
      "http://finance.eastmoney.com/a/202408203159717889.html\n",
      "http://finance.eastmoney.com/a/202408203160521871.html\n",
      "http://stock.eastmoney.com/a/202408203160280972.html\n",
      "http://caifuhao.eastmoney.com/news/20240820153134300376790\n",
      "http://finance.eastmoney.com/a/202408203160604888.html\n",
      "http://finance.eastmoney.com/a/202408203160580161.html\n",
      "http://finance.eastmoney.com/a/202408203160492465.html\n",
      "http://caifuhao.eastmoney.com/news/20240820160325161824170\n",
      "http://finance.eastmoney.com/a/202408203160487826.html\n",
      "http://finance.eastmoney.com/a/202408203160594447.html\n",
      "http://finance.eastmoney.com/a/202408203160309782.html\n",
      "http://caifuhao.eastmoney.com/news/20240820183802682422220\n",
      "http://stock.eastmoney.com/a/202408203160479889.html\n",
      "http://finance.eastmoney.com/a/202408203160665846.html\n",
      "http://finance.eastmoney.com/a/202408203160523464.html\n",
      "http://finance.eastmoney.com/a/202408203160402862.html\n",
      "http://finance.eastmoney.com/a/202408203160716992.html\n",
      "http://finance.eastmoney.com/a/202408203160656995.html\n",
      "http://finance.eastmoney.com/a/202408203160256883.html\n",
      "http://finance.eastmoney.com/a/202408203159717337.html\n",
      "http://finance.eastmoney.com/a/202408203159909618.html\n",
      "http://finance.eastmoney.com/a/202408203160595618.html\n",
      "http://finance.eastmoney.com/a/202408203160584517.html\n",
      "http://finance.eastmoney.com/a/202408203160561624.html\n",
      "http://finance.eastmoney.com/a/202408203160537563.html\n",
      "http://finance.eastmoney.com/a/202408203160524490.html\n",
      "http://stock.eastmoney.com/a/202408203160523244.html\n",
      "http://finance.eastmoney.com/a/202408203160406240.html\n",
      "http://finance.eastmoney.com/a/202408203160134660.html\n",
      "http://finance.eastmoney.com/a/202408203160143477.html\n",
      "http://finance.eastmoney.com/a/202408203160554726.html\n",
      "http://finance.eastmoney.com/a/202408203160379113.html\n",
      "http://finance.eastmoney.com/a/202408203160372871.html\n",
      "http://finance.eastmoney.com/a/202408203160460926.html\n",
      "http://finance.eastmoney.com/a/202408203160031514.html\n",
      "http://stock.eastmoney.com/a/202408203160613921.html\n",
      "http://finance.eastmoney.com/a/202408203160556386.html\n",
      "http://finance.eastmoney.com/a/202408203160346236.html\n",
      "http://finance.eastmoney.com/a/202408203160584517.html\n",
      "http://finance.eastmoney.com/a/202408203160131483.html\n",
      "http://finance.eastmoney.com/a/202408203159900372.html\n",
      "http://finance.eastmoney.com/a/202408203159687778.html\n",
      "http://finance.eastmoney.com/a/202408203160031514.html\n",
      "http://finance.eastmoney.com/a/202408203160278395.html\n",
      "http://finance.eastmoney.com/a/202408203160608665.html\n",
      "http://finance.eastmoney.com/a/202408203160604888.html\n",
      "http://finance.eastmoney.com/a/202408203160599143.html\n",
      "http://finance.eastmoney.com/a/202408203160573968.html\n",
      "http://caifuhao.eastmoney.com/news/20240820165905632124260\n",
      "http://finance.eastmoney.com/a/202408203160459254.html\n",
      "http://finance.eastmoney.com/a/202408203159687778.html\n"
     ]
    }
   ],
   "source": [
    "name_list, code_list, title_list, web_list, info_list, abstract_list = daily_news_spider(driver=driver, urls=urls, date=yesterday, names=names, codes=codes)"
   ]
  },
  {
   "cell_type": "code",
   "execution_count": 5,
   "metadata": {},
   "outputs": [
    {
     "data": {
      "text/html": [
       "<div>\n",
       "<style scoped>\n",
       "    .dataframe tbody tr th:only-of-type {\n",
       "        vertical-align: middle;\n",
       "    }\n",
       "\n",
       "    .dataframe tbody tr th {\n",
       "        vertical-align: top;\n",
       "    }\n",
       "\n",
       "    .dataframe thead th {\n",
       "        text-align: right;\n",
       "    }\n",
       "</style>\n",
       "<table border=\"1\" class=\"dataframe\">\n",
       "  <thead>\n",
       "    <tr style=\"text-align: right;\">\n",
       "      <th></th>\n",
       "      <th>name</th>\n",
       "      <th>code</th>\n",
       "      <th>title</th>\n",
       "      <th>web</th>\n",
       "      <th>item_list</th>\n",
       "      <th>abstract</th>\n",
       "    </tr>\n",
       "  </thead>\n",
       "  <tbody>\n",
       "    <tr>\n",
       "      <th>0</th>\n",
       "      <td>康华生物</td>\n",
       "      <td>300841</td>\n",
       "      <td>69家医药生物公司披露半年报 创新药和“出海”是亮点 4家川企全部盈利 科伦药业净利增逾两成</td>\n",
       "      <td>http://finance.eastmoney.com/a/202408203159687...</td>\n",
       "      <td>[2024年08月20日 00:02, 来源：\\n金融投资报, 3人评论]</td>\n",
       "      <td>时间已进入8月下旬，A股2024年半年报也进入密集披露期。数据显示，截至8月19日，A股已有...</td>\n",
       "    </tr>\n",
       "    <tr>\n",
       "      <th>1</th>\n",
       "      <td>新 希 望</td>\n",
       "      <td>000876</td>\n",
       "      <td>近九成上市生猪企业7月收入增长 行业持续“回血”</td>\n",
       "      <td>http://finance.eastmoney.com/a/202408203160346...</td>\n",
       "      <td>[2024年08月20日 12:46, 作者：\\n王思炀, 来源：\\n新京报, 25人评论]</td>\n",
       "      <td>7月生猪销售数据揭晓，猪价回暖带动行业“回血”成为事实。据新京报记者统计，17家A股上市生猪...</td>\n",
       "    </tr>\n",
       "    <tr>\n",
       "      <th>2</th>\n",
       "      <td>泸州老窖</td>\n",
       "      <td>000568</td>\n",
       "      <td>18只白酒股下跌 贵州茅台1422.72元/股收盘</td>\n",
       "      <td>http://finance.eastmoney.com/a/202408203160473...</td>\n",
       "      <td>[2024年08月20日 15:45, 作者：\\n冯若男, 来源：\\n北京商报, 2人评论]</td>\n",
       "      <td>北京商报讯（记者刘一博冯若男）8月20日尾盘，沪指2866.66点下跌0.93%。白酒股以1...</td>\n",
       "    </tr>\n",
       "    <tr>\n",
       "      <th>3</th>\n",
       "      <td>五 粮 液</td>\n",
       "      <td>000858</td>\n",
       "      <td>18只白酒股下跌 贵州茅台1422.72元/股收盘</td>\n",
       "      <td>http://finance.eastmoney.com/a/202408203160473...</td>\n",
       "      <td>[2024年08月20日 15:45, 作者：\\n冯若男, 来源：\\n北京商报, 2人评论]</td>\n",
       "      <td>北京商报讯（记者刘一博冯若男）8月20日尾盘，沪指2866.66点下跌0.93%。白酒股以1...</td>\n",
       "    </tr>\n",
       "    <tr>\n",
       "      <th>4</th>\n",
       "      <td>中建环能</td>\n",
       "      <td>300425</td>\n",
       "      <td>中建环能：可以利用物联网技术、可视化技术搭建接驳线上管理平台系统，针对城市雨水截蓄治理场景进行管理</td>\n",
       "      <td>http://finance.eastmoney.com/a/202408203160502...</td>\n",
       "      <td>[2024年08月20日 16:19, 来源：\\n每日经济新闻, 3人评论]</td>\n",
       "      <td>每经AI快讯，有投资者在投资者互动平台提问：董秘好，贵司可以提供工程咨询，设计，施工，运营维...</td>\n",
       "    </tr>\n",
       "  </tbody>\n",
       "</table>\n",
       "</div>"
      ],
      "text/plain": [
       "    name    code                                              title  \\\n",
       "0   康华生物  300841     69家医药生物公司披露半年报 创新药和“出海”是亮点 4家川企全部盈利 科伦药业净利增逾两成   \n",
       "1  新 希 望  000876                           近九成上市生猪企业7月收入增长 行业持续“回血”   \n",
       "2   泸州老窖  000568                          18只白酒股下跌 贵州茅台1422.72元/股收盘   \n",
       "3  五 粮 液  000858                          18只白酒股下跌 贵州茅台1422.72元/股收盘   \n",
       "4   中建环能  300425  中建环能：可以利用物联网技术、可视化技术搭建接驳线上管理平台系统，针对城市雨水截蓄治理场景进行管理   \n",
       "\n",
       "                                                 web  \\\n",
       "0  http://finance.eastmoney.com/a/202408203159687...   \n",
       "1  http://finance.eastmoney.com/a/202408203160346...   \n",
       "2  http://finance.eastmoney.com/a/202408203160473...   \n",
       "3  http://finance.eastmoney.com/a/202408203160473...   \n",
       "4  http://finance.eastmoney.com/a/202408203160502...   \n",
       "\n",
       "                                        item_list  \\\n",
       "0           [2024年08月20日 00:02, 来源：\\n金融投资报, 3人评论]   \n",
       "1  [2024年08月20日 12:46, 作者：\\n王思炀, 来源：\\n新京报, 25人评论]   \n",
       "2  [2024年08月20日 15:45, 作者：\\n冯若男, 来源：\\n北京商报, 2人评论]   \n",
       "3  [2024年08月20日 15:45, 作者：\\n冯若男, 来源：\\n北京商报, 2人评论]   \n",
       "4          [2024年08月20日 16:19, 来源：\\n每日经济新闻, 3人评论]   \n",
       "\n",
       "                                            abstract  \n",
       "0  时间已进入8月下旬，A股2024年半年报也进入密集披露期。数据显示，截至8月19日，A股已有...  \n",
       "1  7月生猪销售数据揭晓，猪价回暖带动行业“回血”成为事实。据新京报记者统计，17家A股上市生猪...  \n",
       "2  北京商报讯（记者刘一博冯若男）8月20日尾盘，沪指2866.66点下跌0.93%。白酒股以1...  \n",
       "3  北京商报讯（记者刘一博冯若男）8月20日尾盘，沪指2866.66点下跌0.93%。白酒股以1...  \n",
       "4  每经AI快讯，有投资者在投资者互动平台提问：董秘好，贵司可以提供工程咨询，设计，施工，运营维...  "
      ]
     },
     "execution_count": 5,
     "metadata": {},
     "output_type": "execute_result"
    }
   ],
   "source": [
    "df = eastmoney_df_generator(name_list, code_list, title_list, web_list, info_list, abstract_list)\n",
    "df.head()"
   ]
  },
  {
   "cell_type": "code",
   "execution_count": 6,
   "metadata": {},
   "outputs": [
    {
     "name": "stdout",
     "output_type": "stream",
     "text": [
      "Finished Creating report/eastmoney/08-21 Report.docx...\n"
     ]
    }
   ],
   "source": [
    "eastmoney_docx_generator(today, df)"
   ]
  },
  {
   "cell_type": "code",
   "execution_count": 7,
   "metadata": {},
   "outputs": [],
   "source": [
    "n_list, q_list, a_list = daily_dongmi(driver, companies, yesterday)"
   ]
  },
  {
   "cell_type": "code",
   "execution_count": 8,
   "metadata": {},
   "outputs": [
    {
     "data": {
      "text/html": [
       "<div>\n",
       "<style scoped>\n",
       "    .dataframe tbody tr th:only-of-type {\n",
       "        vertical-align: middle;\n",
       "    }\n",
       "\n",
       "    .dataframe tbody tr th {\n",
       "        vertical-align: top;\n",
       "    }\n",
       "\n",
       "    .dataframe thead th {\n",
       "        text-align: right;\n",
       "    }\n",
       "</style>\n",
       "<table border=\"1\" class=\"dataframe\">\n",
       "  <thead>\n",
       "    <tr style=\"text-align: right;\">\n",
       "      <th></th>\n",
       "      <th>name</th>\n",
       "      <th>question</th>\n",
       "      <th>answer</th>\n",
       "    </tr>\n",
       "  </thead>\n",
       "  <tbody>\n",
       "    <tr>\n",
       "      <th>0</th>\n",
       "      <td>新 希 望</td>\n",
       "      <td>公司的闲置猪场太多了。拖累盈利，今年能解决一部分吗？</td>\n",
       "      <td>新希望：您好，公司正在积极推进闲置猪场的盘活工作，有相应进展时，公司会按照相关规则要求及时履...</td>\n",
       "    </tr>\n",
       "    <tr>\n",
       "      <th>1</th>\n",
       "      <td>海创药业...</td>\n",
       "      <td>HC-1119离上市还有哪些流程呢</td>\n",
       "      <td>海创药业-U：尊敬的投资者，您好。氘恩扎鲁胺（项目号：HC-1119）是基于公司核心氘代研发...</td>\n",
       "    </tr>\n",
       "    <tr>\n",
       "      <th>2</th>\n",
       "      <td>中建环能</td>\n",
       "      <td>贵公司内在价值是什么？贵公司未来发展方向是什么？</td>\n",
       "      <td>您好，感谢您对公司的关注。 中建环能自创立以来始终以提供优质的水环境服务，改善水环境质量为己...</td>\n",
       "    </tr>\n",
       "    <tr>\n",
       "      <th>3</th>\n",
       "      <td>中建环能</td>\n",
       "      <td>董秘好，贵司可以提供工程咨询，设计，施工，运营维护到环境服务。通常此类项目会采用人工智能，物...</td>\n",
       "      <td>中建环能：您好，感谢您对公司的关注。中建环能是以先进技术和产品为核心驱动的环保装备公司，时空...</td>\n",
       "    </tr>\n",
       "    <tr>\n",
       "      <th>4</th>\n",
       "      <td>川网传媒</td>\n",
       "      <td>最近智能眼镜兴起，公司有没有VR产品的技术和应用，或者对于公司有什么新机遇，谢谢。</td>\n",
       "      <td>川网传媒：投资者，您好！公司若有重大产业布局，将根据相关规定及时履行信息披露义务，请留意公司...</td>\n",
       "    </tr>\n",
       "  </tbody>\n",
       "</table>\n",
       "</div>"
      ],
      "text/plain": [
       "      name                                           question  \\\n",
       "0    新 希 望                         公司的闲置猪场太多了。拖累盈利，今年能解决一部分吗？   \n",
       "1  海创药业...                                  HC-1119离上市还有哪些流程呢   \n",
       "2     中建环能                           贵公司内在价值是什么？贵公司未来发展方向是什么？   \n",
       "3     中建环能  董秘好，贵司可以提供工程咨询，设计，施工，运营维护到环境服务。通常此类项目会采用人工智能，物...   \n",
       "4     川网传媒          最近智能眼镜兴起，公司有没有VR产品的技术和应用，或者对于公司有什么新机遇，谢谢。   \n",
       "\n",
       "                                              answer  \n",
       "0  新希望：您好，公司正在积极推进闲置猪场的盘活工作，有相应进展时，公司会按照相关规则要求及时履...  \n",
       "1  海创药业-U：尊敬的投资者，您好。氘恩扎鲁胺（项目号：HC-1119）是基于公司核心氘代研发...  \n",
       "2  您好，感谢您对公司的关注。 中建环能自创立以来始终以提供优质的水环境服务，改善水环境质量为己...  \n",
       "3  中建环能：您好，感谢您对公司的关注。中建环能是以先进技术和产品为核心驱动的环保装备公司，时空...  \n",
       "4  川网传媒：投资者，您好！公司若有重大产业布局，将根据相关规定及时履行信息披露义务，请留意公司...  "
      ]
     },
     "execution_count": 8,
     "metadata": {},
     "output_type": "execute_result"
    }
   ],
   "source": [
    "file_path = \"data/dongmi.csv\"\n",
    "new_data = {\n",
    "    \"name\": n_list,\n",
    "    \"question\": q_list,\n",
    "    \"answer\": a_list\n",
    "}\n",
    "\n",
    "dm = pd.DataFrame(new_data)\n",
    "dm.head()"
   ]
  },
  {
   "cell_type": "code",
   "execution_count": 10,
   "metadata": {},
   "outputs": [
    {
     "name": "stdout",
     "output_type": "stream",
     "text": [
      "Finished Creating report/dongmi/08-21 董秘问答.docx...\n"
     ]
    }
   ],
   "source": [
    "dongmi_docx_generator(today, dm)"
   ]
  }
 ],
 "metadata": {
  "kernelspec": {
   "display_name": "base",
   "language": "python",
   "name": "python3"
  },
  "language_info": {
   "codemirror_mode": {
    "name": "ipython",
    "version": 3
   },
   "file_extension": ".py",
   "mimetype": "text/x-python",
   "name": "python",
   "nbconvert_exporter": "python",
   "pygments_lexer": "ipython3",
   "version": "3.9.15"
  }
 },
 "nbformat": 4,
 "nbformat_minor": 2
}
