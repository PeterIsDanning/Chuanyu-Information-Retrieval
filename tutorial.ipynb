{
 "cells": [
  {
   "cell_type": "code",
   "execution_count": 1,
   "metadata": {},
   "outputs": [],
   "source": [
    "from selenium import webdriver\n",
    "from selenium.webdriver.edge.service import Service as EdgeService\n",
    "from webdriver_manager.microsoft import EdgeChromiumDriverManager\n",
    "from selenium.webdriver.edge.options import Options as EdgeOptions\n",
    "\n",
    "import datetime\n",
    "import pandas as pd\n",
    "\n",
    "from src.spider_eastmoney import daily_news_spider\n",
    "from src.spider_dongmi import daily_dongmi\n",
    "from utils.data_processing import eastmoney_df_generator\n",
    "from utils.docx_processing import eastmoney_docx_generator, dongmi_docx_generator"
   ]
  },
  {
   "cell_type": "code",
   "execution_count": 2,
   "metadata": {},
   "outputs": [],
   "source": [
    "# 设置 EdgeOptions\n",
    "options = EdgeOptions()\n",
    "options.add_argument(\"--headless\")  # 无头模式\n",
    "# 初始化 WebDriver\n",
    "driver = webdriver.Edge(service=EdgeService(EdgeChromiumDriverManager().install()), options=options)\n",
    "\n",
    "today = datetime.datetime.now().strftime(\"%m-%d\")\n",
    "yesterday = (datetime.datetime.now() - datetime.timedelta(days=1)).strftime(\"%m-%d\")\n",
    "companies = pd.read_csv(\"data/sichuan.csv\")"
   ]
  },
  {
   "cell_type": "code",
   "execution_count": 3,
   "metadata": {},
   "outputs": [],
   "source": [
    "urls = companies[\"website\"]\n",
    "names =  companies[\"name\"]\n",
    "codes = companies[\"code\"]"
   ]
  },
  {
   "cell_type": "code",
   "execution_count": 4,
   "metadata": {},
   "outputs": [
    {
     "name": "stdout",
     "output_type": "stream",
     "text": [
      "http://finance.eastmoney.com/a/202408213161203365.html\n",
      "http://finance.eastmoney.com/a/202408213161574197.html\n",
      "http://finance.eastmoney.com/a/202408213161429876.html\n",
      "http://finance.eastmoney.com/a/202408213161088182.html\n",
      "http://finance.eastmoney.com/a/202408213161848030.html\n",
      "http://finance.eastmoney.com/a/202408213161845467.html\n",
      "http://finance.eastmoney.com/a/202408213161816597.html\n",
      "http://finance.eastmoney.com/a/202408213161782880.html\n",
      "http://finance.eastmoney.com/a/202408213161779992.html\n",
      "http://finance.eastmoney.com/a/202408213161528646.html\n",
      "http://caifuhao.eastmoney.com/news/20240821154509147817580\n",
      "http://stock.eastmoney.com/a/202408213161503124.html\n",
      "http://finance.eastmoney.com/a/202408213161774980.html\n",
      "http://stock.eastmoney.com/a/202408213161581230.html\n",
      "http://finance.eastmoney.com/a/202408213161626476.html\n",
      "http://stock.eastmoney.com/a/202408213161546781.html\n",
      "http://caifuhao.eastmoney.com/news/20240821202357636234770\n",
      "http://finance.eastmoney.com/a/202408213161691975.html\n",
      "http://finance.eastmoney.com/a/202408213161691061.html\n",
      "http://finance.eastmoney.com/a/202408213161686031.html\n",
      "http://finance.eastmoney.com/a/202408213161888487.html\n",
      "http://finance.eastmoney.com/a/202408213161800298.html\n",
      "http://finance.eastmoney.com/a/202408213161675226.html\n",
      "http://finance.eastmoney.com/a/202408213161627967.html\n",
      "http://stock.eastmoney.com/a/202408213161599732.html\n",
      "http://caifuhao.eastmoney.com/news/20240821164146478250310\n",
      "http://caifuhao.eastmoney.com/news/20240821184908475822730\n",
      "http://finance.eastmoney.com/a/202408213161784316.html\n",
      "http://finance.eastmoney.com/a/202408213161762456.html\n",
      "http://caifuhao.eastmoney.com/news/20240821192819031029780\n",
      "http://caifuhao.eastmoney.com/news/20240821191100978726930\n",
      "http://stock.eastmoney.com/a/202408213161720331.html\n",
      "http://finance.eastmoney.com/a/202408213161725928.html\n",
      "http://stock.eastmoney.com/a/202408213161703736.html\n",
      "http://stock.eastmoney.com/a/202408213161548668.html\n",
      "http://stock.eastmoney.com/a/202408213161678675.html\n",
      "http://finance.eastmoney.com/a/202408213161294690.html\n",
      "http://finance.eastmoney.com/a/202408213161709129.html\n",
      "http://finance.eastmoney.com/a/202408213161463033.html\n",
      "http://finance.eastmoney.com/a/202408213161349075.html\n",
      "http://finance.eastmoney.com/a/202408213161537467.html\n",
      "http://finance.eastmoney.com/a/202408213161442166.html\n",
      "http://finance.eastmoney.com/a/202408213161505385.html\n",
      "http://finance.eastmoney.com/a/202408213161503077.html\n",
      "http://finance.eastmoney.com/a/202408213161503816.html\n",
      "http://caifuhao.eastmoney.com/news/20240821203816048620940\n",
      "http://caifuhao.eastmoney.com/news/20240821203602797880860\n",
      "http://finance.eastmoney.com/a/202408213161788394.html\n",
      "http://stock.eastmoney.com/a/202408213161648018.html\n",
      "http://finance.eastmoney.com/a/202408213161719011.html\n",
      "http://stock.eastmoney.com/a/202408213161603044.html\n",
      "http://stock.eastmoney.com/a/202408213161731027.html\n",
      "http://finance.eastmoney.com/a/202408213161372057.html\n",
      "http://finance.eastmoney.com/a/202408213160780968.html\n",
      "http://finance.eastmoney.com/a/202408203160772138.html\n",
      "http://finance.eastmoney.com/a/202408213161403419.html\n",
      "http://finance.eastmoney.com/a/202408213161642882.html\n",
      "http://finance.eastmoney.com/a/202408213161832825.html\n",
      "http://finance.eastmoney.com/a/202408213161803145.html\n",
      "http://finance.eastmoney.com/a/202408213161787391.html\n",
      "http://finance.eastmoney.com/a/202408213161513982.html\n",
      "http://finance.eastmoney.com/a/202408213161830475.html\n",
      "http://finance.eastmoney.com/a/202408213161786738.html\n",
      "http://finance.eastmoney.com/a/202408213161721678.html\n",
      "http://finance.eastmoney.com/a/202408213161583639.html\n",
      "http://finance.eastmoney.com/a/202408213161582490.html\n",
      "http://stock.eastmoney.com/a/202408213161536644.html\n",
      "http://stock.eastmoney.com/a/202408213161560186.html\n",
      "http://finance.eastmoney.com/a/202408213161520687.html\n",
      "http://finance.eastmoney.com/a/202408213161896596.html\n",
      "http://finance.eastmoney.com/a/202408213161864512.html\n",
      "http://finance.eastmoney.com/a/202408213161860796.html\n",
      "http://finance.eastmoney.com/a/202408213161851336.html\n",
      "http://finance.eastmoney.com/a/202408213160784717.html\n",
      "http://finance.eastmoney.com/a/202408213160784643.html\n",
      "http://finance.eastmoney.com/a/202408213161730382.html\n"
     ]
    }
   ],
   "source": [
    "name_list, code_list, title_list, web_list, info_list, abstract_list = daily_news_spider(driver=driver, urls=urls, date=yesterday, names=names, codes=codes)"
   ]
  },
  {
   "cell_type": "code",
   "execution_count": 5,
   "metadata": {},
   "outputs": [
    {
     "data": {
      "text/html": [
       "<div>\n",
       "<style scoped>\n",
       "    .dataframe tbody tr th:only-of-type {\n",
       "        vertical-align: middle;\n",
       "    }\n",
       "\n",
       "    .dataframe tbody tr th {\n",
       "        vertical-align: top;\n",
       "    }\n",
       "\n",
       "    .dataframe thead th {\n",
       "        text-align: right;\n",
       "    }\n",
       "</style>\n",
       "<table border=\"1\" class=\"dataframe\">\n",
       "  <thead>\n",
       "    <tr style=\"text-align: right;\">\n",
       "      <th></th>\n",
       "      <th>name</th>\n",
       "      <th>code</th>\n",
       "      <th>title</th>\n",
       "      <th>web</th>\n",
       "      <th>item_list</th>\n",
       "      <th>abstract</th>\n",
       "    </tr>\n",
       "  </thead>\n",
       "  <tbody>\n",
       "    <tr>\n",
       "      <th>0</th>\n",
       "      <td>川发龙蟒</td>\n",
       "      <td>002312</td>\n",
       "      <td>华龙证券：磷化工行业头部企业资源优势显著</td>\n",
       "      <td>http://finance.eastmoney.com/a/202408213161203...</td>\n",
       "      <td>[2024年08月21日 09:16, 作者：\\n阙福生, 来源：\\n证券时报网, 8人评论]</td>\n",
       "      <td>证券时报网讯，华龙证券研报指出，伴随国内湿法磷酸-磷酸铁行业一体化配套率不断提升，价值链传导...</td>\n",
       "    </tr>\n",
       "    <tr>\n",
       "      <th>1</th>\n",
       "      <td>康华生物</td>\n",
       "      <td>300841</td>\n",
       "      <td>康华生物上半年营收和净利润同比增速继续保持两位数增长</td>\n",
       "      <td>http://finance.eastmoney.com/a/202408213161574...</td>\n",
       "      <td>[2024年08月21日 16:25, 来源：\\n证券日报, 8人评论]</td>\n",
       "      <td>近日，康华生物发布2024年半年度报告称，今年上半年，公司实现营业收入7.41亿元，同比增长...</td>\n",
       "    </tr>\n",
       "    <tr>\n",
       "      <th>2</th>\n",
       "      <td>康华生物</td>\n",
       "      <td>300841</td>\n",
       "      <td>“一代鞋王”变“中国疫苗出海之父”，36年温商大佬王振滔再下一城</td>\n",
       "      <td>http://finance.eastmoney.com/a/202408213161429...</td>\n",
       "      <td>[2024年08月21日 12:30, 来源：\\n中宏网股票, 6人评论]</td>\n",
       "      <td>康华生物2024年一季度业绩又获增长后，这家公司的实控人兼董事长王振滔没有自满于公司在国产疫...</td>\n",
       "    </tr>\n",
       "    <tr>\n",
       "      <th>3</th>\n",
       "      <td>康华生物</td>\n",
       "      <td>300841</td>\n",
       "      <td>西南证券发布康华生物研报，发布员工持股计划，彰显发展信心</td>\n",
       "      <td>http://finance.eastmoney.com/a/202408213161088...</td>\n",
       "      <td>[2024年08月21日 08:57, 来源：\\n每日经济新闻, 6人评论]</td>\n",
       "      <td>西南证券08月21日发布康华生物（300841.SZ）研报称：1）业绩环比增长，趋势改善；2...</td>\n",
       "    </tr>\n",
       "    <tr>\n",
       "      <th>4</th>\n",
       "      <td>东材科技</td>\n",
       "      <td>601208</td>\n",
       "      <td>东材科技：2024年上半年净利润1.60亿元 同比下降27.45%</td>\n",
       "      <td>http://finance.eastmoney.com/a/202408213161848...</td>\n",
       "      <td>[2024年08月21日 22:02, 作者：\\n李香才, 来源：\\n中国证券报·中证网, ]</td>\n",
       "      <td>东材科技（601208）8月22日披露2024年半年报。2024年上半年，公司实现营业总收入...</td>\n",
       "    </tr>\n",
       "  </tbody>\n",
       "</table>\n",
       "</div>"
      ],
      "text/plain": [
       "   name    code                              title  \\\n",
       "0  川发龙蟒  002312               华龙证券：磷化工行业头部企业资源优势显著   \n",
       "1  康华生物  300841         康华生物上半年营收和净利润同比增速继续保持两位数增长   \n",
       "2  康华生物  300841   “一代鞋王”变“中国疫苗出海之父”，36年温商大佬王振滔再下一城   \n",
       "3  康华生物  300841       西南证券发布康华生物研报，发布员工持股计划，彰显发展信心   \n",
       "4  东材科技  601208  东材科技：2024年上半年净利润1.60亿元 同比下降27.45%   \n",
       "\n",
       "                                                 web  \\\n",
       "0  http://finance.eastmoney.com/a/202408213161203...   \n",
       "1  http://finance.eastmoney.com/a/202408213161574...   \n",
       "2  http://finance.eastmoney.com/a/202408213161429...   \n",
       "3  http://finance.eastmoney.com/a/202408213161088...   \n",
       "4  http://finance.eastmoney.com/a/202408213161848...   \n",
       "\n",
       "                                         item_list  \\\n",
       "0  [2024年08月21日 09:16, 作者：\\n阙福生, 来源：\\n证券时报网, 8人评论]   \n",
       "1             [2024年08月21日 16:25, 来源：\\n证券日报, 8人评论]   \n",
       "2            [2024年08月21日 12:30, 来源：\\n中宏网股票, 6人评论]   \n",
       "3           [2024年08月21日 08:57, 来源：\\n每日经济新闻, 6人评论]   \n",
       "4  [2024年08月21日 22:02, 作者：\\n李香才, 来源：\\n中国证券报·中证网, ]   \n",
       "\n",
       "                                            abstract  \n",
       "0  证券时报网讯，华龙证券研报指出，伴随国内湿法磷酸-磷酸铁行业一体化配套率不断提升，价值链传导...  \n",
       "1  近日，康华生物发布2024年半年度报告称，今年上半年，公司实现营业收入7.41亿元，同比增长...  \n",
       "2  康华生物2024年一季度业绩又获增长后，这家公司的实控人兼董事长王振滔没有自满于公司在国产疫...  \n",
       "3  西南证券08月21日发布康华生物（300841.SZ）研报称：1）业绩环比增长，趋势改善；2...  \n",
       "4  东材科技（601208）8月22日披露2024年半年报。2024年上半年，公司实现营业总收入...  "
      ]
     },
     "execution_count": 5,
     "metadata": {},
     "output_type": "execute_result"
    }
   ],
   "source": [
    "df = eastmoney_df_generator(name_list, code_list, title_list, web_list, info_list, abstract_list)\n",
    "df.head()"
   ]
  },
  {
   "cell_type": "code",
   "execution_count": 6,
   "metadata": {},
   "outputs": [
    {
     "name": "stdout",
     "output_type": "stream",
     "text": [
      "Finished Creating report/eastmoney/08-22 Report.docx...\n"
     ]
    }
   ],
   "source": [
    "eastmoney_docx_generator(today, df)"
   ]
  },
  {
   "cell_type": "code",
   "execution_count": 7,
   "metadata": {},
   "outputs": [],
   "source": [
    "n_list, q_list, a_list = daily_dongmi(driver, companies, yesterday)"
   ]
  },
  {
   "cell_type": "code",
   "execution_count": 8,
   "metadata": {},
   "outputs": [
    {
     "data": {
      "text/html": [
       "<div>\n",
       "<style scoped>\n",
       "    .dataframe tbody tr th:only-of-type {\n",
       "        vertical-align: middle;\n",
       "    }\n",
       "\n",
       "    .dataframe tbody tr th {\n",
       "        vertical-align: top;\n",
       "    }\n",
       "\n",
       "    .dataframe thead th {\n",
       "        text-align: right;\n",
       "    }\n",
       "</style>\n",
       "<table border=\"1\" class=\"dataframe\">\n",
       "  <thead>\n",
       "    <tr style=\"text-align: right;\">\n",
       "      <th></th>\n",
       "      <th>name</th>\n",
       "      <th>question</th>\n",
       "      <th>answer</th>\n",
       "    </tr>\n",
       "  </thead>\n",
       "  <tbody>\n",
       "    <tr>\n",
       "      <th>0</th>\n",
       "      <td>川能动力</td>\n",
       "      <td>请问公司何时进行分红?都已经八月中旬了。</td>\n",
       "      <td>川能动力：您好！公司计划实施2024年中期分红，分红金额预计不低于公司2023年合并财务报表...</td>\n",
       "    </tr>\n",
       "    <tr>\n",
       "      <th>1</th>\n",
       "      <td>川能动力</td>\n",
       "      <td>公布中期分红，现在都八月十五日了，还没消息，这是什么情况呢</td>\n",
       "      <td>川能动力：您好！公司计划实施2024年中期分红，分红金额预计不低于公司2023年合并财务报表...</td>\n",
       "    </tr>\n",
       "    <tr>\n",
       "      <th>2</th>\n",
       "      <td>川能动力</td>\n",
       "      <td>董秘，你好，请问：川能动力公司有回购股份计划吗？公司市值管理计划怎样？怎样做优做强做大，保值...</td>\n",
       "      <td>川能动力：您好！公司积极贯彻落实国资提质增效相关要求，专注主业发展，不断提升经营效益。公司重...</td>\n",
       "    </tr>\n",
       "    <tr>\n",
       "      <th>3</th>\n",
       "      <td>川能动力</td>\n",
       "      <td>高能耗企业都逐步会强制使用绿电，公司作为新能源发电企业能否实际获益</td>\n",
       "      <td>川能动力：您好！全国推广绿电强制消费机制将显著增加对新能源的需求，有望带来绿色电力量价齐升，...</td>\n",
       "    </tr>\n",
       "    <tr>\n",
       "      <th>4</th>\n",
       "      <td>川能动力</td>\n",
       "      <td>公司的绿电绿证交易方面，进行到哪一步了</td>\n",
       "      <td>川能动力：您好！公司积极参与绿电交易，已参与四川省绿电交易的风电项目包括沙马乃托一期、小街一...</td>\n",
       "    </tr>\n",
       "  </tbody>\n",
       "</table>\n",
       "</div>"
      ],
      "text/plain": [
       "   name                                           question  \\\n",
       "0  川能动力                               请问公司何时进行分红?都已经八月中旬了。   \n",
       "1  川能动力                      公布中期分红，现在都八月十五日了，还没消息，这是什么情况呢   \n",
       "2  川能动力  董秘，你好，请问：川能动力公司有回购股份计划吗？公司市值管理计划怎样？怎样做优做强做大，保值...   \n",
       "3  川能动力                  高能耗企业都逐步会强制使用绿电，公司作为新能源发电企业能否实际获益   \n",
       "4  川能动力                                公司的绿电绿证交易方面，进行到哪一步了   \n",
       "\n",
       "                                              answer  \n",
       "0  川能动力：您好！公司计划实施2024年中期分红，分红金额预计不低于公司2023年合并财务报表...  \n",
       "1  川能动力：您好！公司计划实施2024年中期分红，分红金额预计不低于公司2023年合并财务报表...  \n",
       "2  川能动力：您好！公司积极贯彻落实国资提质增效相关要求，专注主业发展，不断提升经营效益。公司重...  \n",
       "3  川能动力：您好！全国推广绿电强制消费机制将显著增加对新能源的需求，有望带来绿色电力量价齐升，...  \n",
       "4  川能动力：您好！公司积极参与绿电交易，已参与四川省绿电交易的风电项目包括沙马乃托一期、小街一...  "
      ]
     },
     "execution_count": 8,
     "metadata": {},
     "output_type": "execute_result"
    }
   ],
   "source": [
    "file_path = \"data/dongmi.csv\"\n",
    "new_data = {\n",
    "    \"name\": n_list,\n",
    "    \"question\": q_list,\n",
    "    \"answer\": a_list\n",
    "}\n",
    "\n",
    "dm = pd.DataFrame(new_data)\n",
    "dm.head()"
   ]
  },
  {
   "cell_type": "code",
   "execution_count": 9,
   "metadata": {},
   "outputs": [
    {
     "name": "stdout",
     "output_type": "stream",
     "text": [
      "Finished Creating report/dongmi/08-22 董秘问答.docx...\n"
     ]
    }
   ],
   "source": [
    "dongmi_docx_generator(today, dm)"
   ]
  }
 ],
 "metadata": {
  "kernelspec": {
   "display_name": "base",
   "language": "python",
   "name": "python3"
  },
  "language_info": {
   "codemirror_mode": {
    "name": "ipython",
    "version": 3
   },
   "file_extension": ".py",
   "mimetype": "text/x-python",
   "name": "python",
   "nbconvert_exporter": "python",
   "pygments_lexer": "ipython3",
   "version": "3.9.15"
  }
 },
 "nbformat": 4,
 "nbformat_minor": 2
}
